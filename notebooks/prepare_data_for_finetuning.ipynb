{
 "cells": [
  {
   "cell_type": "code",
   "execution_count": 4,
   "metadata": {},
   "outputs": [],
   "source": [
    "import os\n",
    "from tqdm import tqdm\n",
    "from src.data.data_for_finetuning import save_correct_answer, find_matching_square, find_rectangles_without_plus\n",
    "from src.data.preprocess_labels import save_bottom_half"
   ]
  },
  {
   "cell_type": "code",
   "execution_count": 5,
   "metadata": {},
   "outputs": [],
   "source": [
    "import json \n",
    "\n",
    "def find_rectangles_without_plus(path_to_json: str) -> list:\n",
    "    \"\"\"\n",
    "    Находит координаты прямоугольников, не содержащих знак плюса, в файле JSON с аннотациями.\n",
    "\n",
    "    Аргументы:\n",
    "    - path_to_json: Путь к файлу JSON с аннотациями.\n",
    "\n",
    "    Возвращает:\n",
    "    - Список координат для каждого прямоугольника, не содержащего знак плюса.\n",
    "      Каждый набор координат представлен в формате списка из двух точек.\n",
    "    \"\"\"\n",
    "    \n",
    "    with open(path_to_json) as json_file:\n",
    "        data = json.load(json_file)\n",
    "    \n",
    "    # Находим координаты всех знаков плюса\n",
    "    plus_signs = [shape['points'][0] for shape in data['shapes'] if shape['label'] == '+']\n",
    "\n",
    "    # Функция для проверки, находится ли точка внутри прямоугольника\n",
    "    def is_point_in_rect(point, rect):\n",
    "        px, py = point\n",
    "        (rx1, ry1), (rx2, ry2) = rect\n",
    "        return rx1 <= px <= rx2 and ry1 <= py <= ry2\n",
    "\n",
    "    # Список для хранения всех прямоугольников\n",
    "    all_rectangles = []\n",
    "\n",
    "    # Список для хранения прямоугольников, содержащих плюс\n",
    "    rectangles_with_plus = []\n",
    "\n",
    "    # Сначала получаем все прямоугольники\n",
    "    for shape in data['shapes']:\n",
    "        if (shape['shape_type'] == 'rectangle') and not (shape['label'] in [\"1\", \"2\", \"3\", \"4\", \"5\"]) :\n",
    "            all_rectangles.append(shape['points'])\n",
    "            #print(shape)\n",
    "\n",
    "    # Определяем прямоугольники с знаком плюс\n",
    "    for rect in all_rectangles:\n",
    "        for plus in plus_signs:\n",
    "            if is_point_in_rect(plus, rect):\n",
    "                rectangles_with_plus.append(rect)\n",
    "                #print(\"rejected: \", shape)\n",
    "                break  # Нет необходимости проверять другие знаки плюс, если один найден\n",
    "\n",
    "    # Теперь получаем список прямоугольников без знака плюс путем удаления rectangles_with_plus из all_rectangles\n",
    "    rectangles_without_plus = [rect for rect in all_rectangles if rect not in rectangles_with_plus]\n",
    "\n",
    "    return rectangles_without_plus"
   ]
  },
  {
   "cell_type": "code",
   "execution_count": 12,
   "metadata": {},
   "outputs": [
    {
     "name": "stdout",
     "output_type": "stream",
     "text": [
      "{'label': 'icon', 'points': [[155.1558752997602, 39.32853717026379], [108.39328537170265, 0.0]], 'group_id': None, 'description': '', 'shape_type': 'rectangle', 'flags': {}}\n",
      "{'label': 'icon', 'points': [[102.6378896882494, 26.618705035971225], [151.3189448441247, 72.18225419664269]], 'group_id': None, 'description': '', 'shape_type': 'rectangle', 'flags': {}}\n",
      "{'label': 'icon', 'points': [[75.77937649880096, 47.48201438848921], [126.13908872901679, 89.68824940047962]], 'group_id': None, 'description': '', 'shape_type': 'rectangle', 'flags': {}}\n",
      "{'label': 'icon', 'points': [[81.5347721822542, 80.3357314148681], [129.97601918465227, 129.97601918465227]], 'group_id': None, 'description': '', 'shape_type': 'rectangle', 'flags': {}}\n",
      "{'label': 'icon', 'points': [[50.35971223021583, 98.8009592326139], [100.71942446043165, 148.4412470023981]], 'group_id': None, 'description': '', 'shape_type': 'rectangle', 'flags': {}}\n",
      "{'label': 'icon', 'points': [[96.64268585131894, 375.53956834532374], [40.52757793764988, 318.94484412470024]], 'group_id': None, 'description': '', 'shape_type': 'rectangle', 'flags': {}}\n",
      "rejected:  {'label': '2', 'points': [[65.94724220623502, 284.652278177458], [30.455635491606714, 235.73141486810553]], 'group_id': None, 'description': '', 'shape_type': 'rectangle', 'flags': {}}\n"
     ]
    },
    {
     "data": {
      "text/plain": [
       "5"
      ]
     },
     "execution_count": 12,
     "metadata": {},
     "output_type": "execute_result"
    }
   ],
   "source": [
    "path_to_json = 'data/raw/186586.json'\n",
    "len(find_rectangles_without_plus(path_to_json))"
   ]
  },
  {
   "cell_type": "code",
   "execution_count": null,
   "metadata": {},
   "outputs": [],
   "source": []
  }
 ],
 "metadata": {
  "kernelspec": {
   "display_name": "Python 3",
   "language": "python",
   "name": "python3"
  },
  "language_info": {
   "codemirror_mode": {
    "name": "ipython",
    "version": 3
   },
   "file_extension": ".py",
   "mimetype": "text/x-python",
   "name": "python",
   "nbconvert_exporter": "python",
   "pygments_lexer": "ipython3",
   "version": "3.11.0"
  }
 },
 "nbformat": 4,
 "nbformat_minor": 2
}
