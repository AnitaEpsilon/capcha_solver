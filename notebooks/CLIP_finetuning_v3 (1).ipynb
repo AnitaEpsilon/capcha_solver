{
  "cells": [
    {
      "cell_type": "code",
      "execution_count": 1,
      "metadata": {
        "colab": {
          "base_uri": "https://localhost:8080/"
        },
        "id": "Fiv6qukkVLbc",
        "outputId": "cae5caf9-caa1-4a98-dee9-ce0f162b5a79"
      },
      "outputs": [
        {
          "name": "stdout",
          "output_type": "stream",
          "text": [
            "Collecting ftfy\n",
            "  Downloading ftfy-6.1.3-py3-none-any.whl (53 kB)\n",
            "\u001b[?25l     \u001b[90m━━━━━━━━━━━━━━━━━━━━━━━━━━━━━━━━━━━━━━━━\u001b[0m \u001b[32m0.0/53.4 kB\u001b[0m \u001b[31m?\u001b[0m eta \u001b[36m-:--:--\u001b[0m\r\u001b[2K     \u001b[90m━━━━━━━━━━━━━━━━━━━━━━━━━━━━━━━━━━━━━━━━\u001b[0m \u001b[32m53.4/53.4 kB\u001b[0m \u001b[31m2.4 MB/s\u001b[0m eta \u001b[36m0:00:00\u001b[0m\n",
            "\u001b[?25hRequirement already satisfied: regex in /usr/local/lib/python3.10/dist-packages (2023.12.25)\n",
            "Requirement already satisfied: tqdm in /usr/local/lib/python3.10/dist-packages (4.66.2)\n",
            "Requirement already satisfied: wcwidth<0.3.0,>=0.2.12 in /usr/local/lib/python3.10/dist-packages (from ftfy) (0.2.13)\n",
            "Installing collected packages: ftfy\n",
            "Successfully installed ftfy-6.1.3\n",
            "Collecting git+https://github.com/openai/CLIP.git\n",
            "  Cloning https://github.com/openai/CLIP.git to /tmp/pip-req-build-zwvngdyu\n",
            "  Running command git clone --filter=blob:none --quiet https://github.com/openai/CLIP.git /tmp/pip-req-build-zwvngdyu\n",
            "  Resolved https://github.com/openai/CLIP.git to commit a1d071733d7111c9c014f024669f959182114e33\n",
            "  Preparing metadata (setup.py) ... \u001b[?25l\u001b[?25hdone\n",
            "Requirement already satisfied: ftfy in /usr/local/lib/python3.10/dist-packages (from clip==1.0) (6.1.3)\n",
            "Requirement already satisfied: regex in /usr/local/lib/python3.10/dist-packages (from clip==1.0) (2023.12.25)\n",
            "Requirement already satisfied: tqdm in /usr/local/lib/python3.10/dist-packages (from clip==1.0) (4.66.2)\n",
            "Requirement already satisfied: torch in /usr/local/lib/python3.10/dist-packages (from clip==1.0) (2.1.0+cu121)\n",
            "Requirement already satisfied: torchvision in /usr/local/lib/python3.10/dist-packages (from clip==1.0) (0.16.0+cu121)\n",
            "Requirement already satisfied: wcwidth<0.3.0,>=0.2.12 in /usr/local/lib/python3.10/dist-packages (from ftfy->clip==1.0) (0.2.13)\n",
            "Requirement already satisfied: filelock in /usr/local/lib/python3.10/dist-packages (from torch->clip==1.0) (3.13.1)\n",
            "Requirement already satisfied: typing-extensions in /usr/local/lib/python3.10/dist-packages (from torch->clip==1.0) (4.9.0)\n",
            "Requirement already satisfied: sympy in /usr/local/lib/python3.10/dist-packages (from torch->clip==1.0) (1.12)\n",
            "Requirement already satisfied: networkx in /usr/local/lib/python3.10/dist-packages (from torch->clip==1.0) (3.2.1)\n",
            "Requirement already satisfied: jinja2 in /usr/local/lib/python3.10/dist-packages (from torch->clip==1.0) (3.1.3)\n",
            "Requirement already satisfied: fsspec in /usr/local/lib/python3.10/dist-packages (from torch->clip==1.0) (2023.6.0)\n",
            "Requirement already satisfied: triton==2.1.0 in /usr/local/lib/python3.10/dist-packages (from torch->clip==1.0) (2.1.0)\n",
            "Requirement already satisfied: numpy in /usr/local/lib/python3.10/dist-packages (from torchvision->clip==1.0) (1.25.2)\n",
            "Requirement already satisfied: requests in /usr/local/lib/python3.10/dist-packages (from torchvision->clip==1.0) (2.31.0)\n",
            "Requirement already satisfied: pillow!=8.3.*,>=5.3.0 in /usr/local/lib/python3.10/dist-packages (from torchvision->clip==1.0) (9.4.0)\n",
            "Requirement already satisfied: MarkupSafe>=2.0 in /usr/local/lib/python3.10/dist-packages (from jinja2->torch->clip==1.0) (2.1.5)\n",
            "Requirement already satisfied: charset-normalizer<4,>=2 in /usr/local/lib/python3.10/dist-packages (from requests->torchvision->clip==1.0) (3.3.2)\n",
            "Requirement already satisfied: idna<4,>=2.5 in /usr/local/lib/python3.10/dist-packages (from requests->torchvision->clip==1.0) (3.6)\n",
            "Requirement already satisfied: urllib3<3,>=1.21.1 in /usr/local/lib/python3.10/dist-packages (from requests->torchvision->clip==1.0) (2.0.7)\n",
            "Requirement already satisfied: certifi>=2017.4.17 in /usr/local/lib/python3.10/dist-packages (from requests->torchvision->clip==1.0) (2024.2.2)\n",
            "Requirement already satisfied: mpmath>=0.19 in /usr/local/lib/python3.10/dist-packages (from sympy->torch->clip==1.0) (1.3.0)\n",
            "Building wheels for collected packages: clip\n",
            "  Building wheel for clip (setup.py) ... \u001b[?25l\u001b[?25hdone\n",
            "  Created wheel for clip: filename=clip-1.0-py3-none-any.whl size=1369497 sha256=8bc39d4899ea12d0e7d62ccde0f3746a2ad7bb01e37c20a0dc33ee71384b639c\n",
            "  Stored in directory: /tmp/pip-ephem-wheel-cache-dc6jivvz/wheels/da/2b/4c/d6691fa9597aac8bb85d2ac13b112deb897d5b50f5ad9a37e4\n",
            "Successfully built clip\n",
            "Installing collected packages: clip\n",
            "Successfully installed clip-1.0\n"
          ]
        }
      ],
      "source": [
        "  ! pip install ftfy regex tqdm\n",
        "  ! pip install git+https://github.com/openai/CLIP.git"
      ]
    },
    {
      "cell_type": "markdown",
      "metadata": {
        "id": "7vGij1IqrCz9"
      },
      "source": [
        "# New dataset creation"
      ]
    },
    {
      "cell_type": "code",
      "execution_count": 8,
      "metadata": {
        "id": "m4rXp-JwrCz_"
      },
      "outputs": [],
      "source": [
        "import os\n",
        "import csv\n",
        "\n",
        "# Функция для проверки наличия файлов с картинками\n",
        "def check_image_files(folder_path):\n",
        "    image_path = os.path.join(folder_path, 'im.jpg')\n",
        "    correct_path = os.path.join(folder_path, 'correct.jpg')\n",
        "    \n",
        "    if os.path.exists(image_path) and os.path.exists(correct_path):\n",
        "        return True\n",
        "    else:\n",
        "        return False\n",
        "    \n",
        "# Путь к директории с папками\n",
        "directory = 'data/benchmarked'\n",
        "# Список всех папок в директории\n",
        "folders = [f for f in os.listdir(directory) if os.path.isdir(os.path.join(directory, f))]\n",
        "\n",
        "# Создаем CSV-файл для записи результатов\n",
        "with open('data/benchmarked/results.csv', mode='w', newline='') as file:\n",
        "    writer = csv.writer(file)\n",
        "    writer.writerow(['Image 1', 'Image 2', 'Boolean'])\n",
        "\n",
        "    # Проходим по каждой папке\n",
        "    for i, folder in enumerate(folders):\n",
        "        # Получаем путь к текущей папке\n",
        "        folder_path = os.path.join(directory, folder)\n",
        "\n",
        "        # Проверяем наличие файлов с картинками\n",
        "        if check_image_files(folder_path):\n",
        "            # Создаем строки для таблицы, если файлы существуют\n",
        "            first_row = [os.path.join(folder_path, 'im.jpg'), os.path.join(folder_path, 'correct.jpg'), True]\n",
        "            writer.writerow(first_row)\n",
        "\n",
        "            next_folder = folders[i + 1] if i < len(folders) - 1 else None\n",
        "\n",
        "            if next_folder and check_image_files(next_folder):\n",
        "                next_folder_path = os.path.join(directory, next_folder)\n",
        "                second_row = [os.path.join(folder_path, 'im.jpg'), os.path.join(next_folder_path, 'correct.jpg'), False]\n",
        "                writer.writerow(second_row)"
      ]
    },
    {
      "cell_type": "markdown",
      "metadata": {
        "id": "pI_uR_IYVrH_"
      },
      "source": [
        "# Fine Tuning"
      ]
    },
    {
      "cell_type": "code",
      "execution_count": 9,
      "metadata": {
        "colab": {
          "base_uri": "https://localhost:8080/"
        },
        "id": "CEX3IuVWmDLY",
        "outputId": "f7523689-4003-4ee7-f75d-bad43c31f6b6"
      },
      "outputs": [],
      "source": [
        "import clip\n",
        "import torch\n",
        "from torch import nn\n",
        "\n",
        "# Загрузка предварительно обученной модели CLIP\n",
        "device = \"cuda\" if torch.cuda.is_available() else \"cpu\"\n",
        "model, preprocess = clip.load(\"ViT-B/32\", device=device)\n",
        "\n",
        "# Заморозка весов модели CLIP\n",
        "for param in model.parameters():\n",
        "    param.requires_grad = False"
      ]
    },
    {
      "cell_type": "code",
      "execution_count": 10,
      "metadata": {
        "id": "2jU347oRmIcb"
      },
      "outputs": [],
      "source": [
        "import torch\n",
        "import numpy as np\n",
        "import clip\n",
        "import torch\n",
        "from torch import nn\n",
        "from PIL import Image\n",
        "\n",
        "class CLIPFineTuneModel(nn.Module):\n",
        "    \"\"\"\n",
        "    Класс для настройки модели CLIP с добавлением линейного слоя для финетюнинга.\n",
        "\n",
        "    Атрибуты:\n",
        "    - clip_model (torch.nn.Module): предобученная модель CLIP.\n",
        "    - linear (torch.nn.Linear): линейный слой для трансформации признаков.\n",
        "    - cosine_similarity (torch.nn.CosineSimilarity): слой для вычисления косинусного сходства между векторами признаков.\n",
        "\n",
        "    Методы:\n",
        "    - forward(img1, img2): Проход вперед, который принимает пары изображений и возвращает оценку их сходства.\n",
        "    \"\"\"\n",
        "\n",
        "    def __init__(self, clip_model):\n",
        "        \"\"\"\n",
        "        Инициализирует класс с предобученной моделью CLIP и добавляет линейный слой.\n",
        "\n",
        "        Параметры:\n",
        "        - clip_model (torch.nn.Module): предобученная модель CLIP.\n",
        "        \"\"\"\n",
        "        super(CLIPFineTuneModel, self).__init__()\n",
        "        self.clip_model = clip_model\n",
        "        self.linear = nn.Linear(512, 64)\n",
        "        self.cosine_similarity = nn.CosineSimilarity(dim=1)\n",
        "\n",
        "    def forward(self, img1, img2):\n",
        "        \"\"\"\n",
        "        Выполняет проход вперед, принимая два изображения и вычисляя их сходство.\n",
        "\n",
        "        Параметры:\n",
        "        - img1 (torch.Tensor): тензор первого изображения.\n",
        "        - img2 (torch.Tensor): тензор второго изображения.\n",
        "\n",
        "        Выходные данные:\n",
        "        - similarity (torch.Tensor): тензор с оценками сходства изображений.\n",
        "        \"\"\"\n",
        "        with torch.no_grad():\n",
        "            features1 = self.clip_model.encode_image(img1).to(dtype=torch.float32)\n",
        "            features2 = self.clip_model.encode_image(img2).to(dtype=torch.float32)\n",
        "\n",
        "        transformed_features1 = self.linear(features1).to(dtype=torch.float32)\n",
        "        transformed_features2 = self.linear(features2).to(dtype=torch.float32)\n",
        "        transformed_features1 = transformed_features1 / transformed_features1.norm(dim=-1, keepdim=True)\n",
        "        transformed_features2 = transformed_features2 / transformed_features2.norm(dim=-1, keepdim=True)\n",
        "\n",
        "        similarity = self.cosine_similarity(transformed_features1, transformed_features2).unsqueeze(-1).to(dtype=torch.float32)\n",
        "        return similarity"
      ]
    },
    {
      "cell_type": "code",
      "execution_count": 11,
      "metadata": {
        "id": "sN6_Wwrcmm6L"
      },
      "outputs": [],
      "source": [
        "finetune_model = CLIPFineTuneModel(model).to(device)"
      ]
    },
    {
      "cell_type": "code",
      "execution_count": 12,
      "metadata": {
        "id": "JyXHrn05l2UL"
      },
      "outputs": [],
      "source": [
        "import pandas as pd\n",
        "from torch.utils.data import Dataset, DataLoader\n",
        "from torchvision import transforms\n",
        "from PIL import Image\n",
        "import numpy as np\n",
        "\n",
        "class CustomImageDataset(Dataset):\n",
        "    \"\"\"\n",
        "    Класс датасета для пар изображений с метками их соответствия.\n",
        "\n",
        "    Атрибуты:\n",
        "    - dataframe (pandas.DataFrame): DataFrame с путями к изображениям и метками соответствия.\n",
        "    - transform (callable, optional): Преобразование, применяемое к каждому изображению.\n",
        "    - base_path (str): Базовый путь к изображениям.\n",
        "\n",
        "    Методы:\n",
        "    - __len__(): Возвращает размер датасета.\n",
        "    - __getitem__(idx): Возвращает пару изображений и метку их соответствия по индексу.\n",
        "    \"\"\"\n",
        "\n",
        "    def __init__(self, dataframe, transform=None, base_path='train_data2/benchmarked/'):\n",
        "        \"\"\"\n",
        "        Инициализирует датасет с указанным DataFrame, трансформацией и базовым путем.\n",
        "\n",
        "        Параметры:\n",
        "        - dataframe (pandas.DataFrame): DataFrame с данными.\n",
        "        - transform (callable, optional): Функция преобразования изображений. По умолчанию None.\n",
        "        - base_path (str): Базовый путь к изображениям. По умолчанию 'train_data2/benchmarked/'.\n",
        "        \"\"\"\n",
        "        self.dataframe = dataframe\n",
        "        self.transform = transform\n",
        "        self.base_path = base_path\n",
        "\n",
        "    def __len__(self):\n",
        "        \"\"\"\n",
        "        Возвращает общее количество пар изображений в датасете.\n",
        "\n",
        "        Выходные данные:\n",
        "        - int: Количество пар изображений.\n",
        "        \"\"\"\n",
        "        return len(self.dataframe)\n",
        "\n",
        "    def __getitem__(self, idx):\n",
        "        \"\"\"\n",
        "        Возвращает пару изображений и метку их соответствия по указанному индексу.\n",
        "\n",
        "        Параметры:\n",
        "        - idx (int): Индекс пары изображений в датасете.\n",
        "\n",
        "        Выходные данные:\n",
        "        - tuple: Пара трансформированных изображений и метка соответствия (torch.Tensor, torch.Tensor, float).\n",
        "        \"\"\"\n",
        "        img1_path = self.base_path + self.dataframe.iloc[idx, 0]\n",
        "        img2_path = self.base_path + self.dataframe.iloc[idx, 1]\n",
        "        label = self.dataframe.iloc[idx, 2].astype(np.float32)\n",
        "\n",
        "        img1 = Image.open(img1_path).convert(\"RGB\")\n",
        "        img2 = Image.open(img2_path).convert(\"RGB\")\n",
        "\n",
        "        if self.transform:\n",
        "            img1 = self.transform(img1)\n",
        "            img1 = (img1 - torch.min(img1)) / (torch.max(img1) - torch.min(img1))\n",
        "            img2 = self.transform(img2)\n",
        "            img2 = (img2 - torch.min(img2)) / (torch.max(img2) - torch.min(img2))\n",
        "\n",
        "        return img1, img2, label\n",
        "\n",
        "\n",
        "dataframe = pd.read_csv('data/benchmarked/results.csv')\n",
        "dataset = CustomImageDataset(dataframe=dataframe.head(256), transform=preprocess, base_path='')\n",
        "dataloader = DataLoader(dataset, batch_size=32, shuffle=True)"
      ]
    },
    {
      "cell_type": "code",
      "execution_count": 13,
      "metadata": {
        "id": "icVPcuwNl9R2"
      },
      "outputs": [],
      "source": [
        "import matplotlib.pyplot as plt\n",
        "import torchvision.transforms.functional as F\n",
        "\n",
        "def show_batch(dataloader):\n",
        "    \"\"\"\n",
        "    Отображает первый батч изображений из даталоудера.\n",
        "\n",
        "    Параметры:\n",
        "    - dataloader (DataLoader): загрузчик данных PyTorch, содержащий пары изображений и метки их соответствия.\n",
        "\n",
        "    Выходные данные:\n",
        "    - None. Функция отображает изображения из первого батча в dataloader, используя matplotlib.\n",
        "    \"\"\"\n",
        "    for img1, img2, labels in dataloader:\n",
        "        batch_size = img1.size(0)  # Получаем размер батча\n",
        "        if batch_size == 1:\n",
        "            fig, axs = plt.subplots(batch_size, 2, figsize=(10, 5 * batch_size))\n",
        "            axs = np.array([axs])  # Преобразуем axs в 2D массив для унификации доступа\n",
        "        else:\n",
        "            fig, axs = plt.subplots(batch_size, 2, figsize=(10, 5 * batch_size))\n",
        "\n",
        "        for i in range(batch_size):\n",
        "            image1_pil = F.to_pil_image(img1[i].squeeze().cpu())\n",
        "            image2_pil = F.to_pil_image(img2[i].squeeze().cpu())\n",
        "\n",
        "            if batch_size == 1:\n",
        "                ax1, ax2 = axs[0]  # Для одномерного случая\n",
        "            else:\n",
        "                ax1, ax2 = axs[i]  # Для многомерного случая\n",
        "\n",
        "            ax1.imshow(image1_pil)\n",
        "            ax1.set_title(\"Image 1\")\n",
        "            ax1.axis('off')\n",
        "\n",
        "            ax2.imshow(image2_pil)\n",
        "            ax2.set_title(f\"Image 2 - {'True' if labels[i].item() == 1.0 else 'False'}\")\n",
        "            ax2.axis('off')\n",
        "\n",
        "        plt.tight_layout()\n",
        "        plt.show()\n",
        "        break  # Отображаем только первый батч"
      ]
    },
    {
      "cell_type": "code",
      "execution_count": null,
      "metadata": {
        "colab": {
          "base_uri": "https://localhost:8080/",
          "height": 1000
        },
        "id": "vc6r6XximL4f",
        "outputId": "09412d51-64ae-4993-eb0b-8ed23dfc2f0b"
      },
      "outputs": [],
      "source": [
        "show_batch(dataloader)"
      ]
    },
    {
      "cell_type": "code",
      "execution_count": 15,
      "metadata": {
        "colab": {
          "base_uri": "https://localhost:8080/",
          "height": 643
        },
        "id": "m7eNIQ0hlbci",
        "outputId": "e0167ac8-98d8-4233-f60d-65e09edc690a"
      },
      "outputs": [
        {
          "name": "stdout",
          "output_type": "stream",
          "text": [
            "Epoch 1, Training Loss: 0.0015384334630133317, Validation Loss: 0.00015935707657869594\n",
            "Epoch 2, Training Loss: 0.00010262169841250095, Validation Loss: 6.403548043939129e-05\n"
          ]
        },
        {
          "data": {
            "image/png": "[encoded data removed]",
            "text/plain": [
              "<Figure size 1000x500 with 1 Axes>"
            ]
          },
          "metadata": {},
          "output_type": "display_data"
        }
      ],
      "source": [
        "import clip\n",
        "import torch\n",
        "from torch import nn, optim\n",
        "from torch.optim import Adam\n",
        "import pandas as pd\n",
        "from torch.utils.data import Dataset, DataLoader, random_split\n",
        "from torchvision import transforms\n",
        "from PIL import Image\n",
        "import numpy as np\n",
        "import matplotlib.pyplot as plt\n",
        "\n",
        "\n",
        "dataframe = pd.read_csv('data/benchmarked/results.csv')\n",
        "\n",
        "# Коэффициент для определения индекса разделения данных (исключая последние 10%)\n",
        "split_ratio = 0.9\n",
        "train_ratio = 0.8\n",
        "\n",
        "# Вычисляем индекс для разделения данных, чтобы исключить последние 10%\n",
        "split_index = int(len(dataframe) * split_ratio)\n",
        "\n",
        "# Разделяем набор данных, чтобы исключить последние 10%\n",
        "dataframe = dataframe[:split_index]\n",
        "\n",
        "# Инициализируем набор данных с изменённым датафреймом\n",
        "dataset = CustomImageDataset(dataframe=dataframe, transform=preprocess, base_path='')\n",
        "\n",
        "# Разделяем набор данных на тренировочный и валидационный наборы\n",
        "train_size = int(train_ratio * len(dataset))\n",
        "test_size = len(dataset) - train_size\n",
        "train_dataset, test_dataset = random_split(dataset, [train_size, test_size])\n",
        "\n",
        "# Загрузчики данных для тренировочного и валидационного наборов\n",
        "train_dataloader = DataLoader(train_dataset, batch_size=32, shuffle=True)\n",
        "test_dataloader = DataLoader(test_dataset, batch_size=32, shuffle=False)\n",
        "\n",
        "def train_and_validate(model, train_dataloader, test_dataloader, criterion, optimizer, num_epochs=10):\n",
        "    \"\"\"\n",
        "    Обучает и валидирует модель на данных из даталоудеров.\n",
        "\n",
        "    Параметры:\n",
        "    - model (torch.nn.Module): модель для обучения.\n",
        "    - train_dataloader (DataLoader): загрузчик данных для обучения.\n",
        "    - test_dataloader (DataLoader): загрузчик данных для валидации.\n",
        "    - criterion (torch.nn.modules.loss): функция потерь.\n",
        "    - optimizer (torch.optim.Optimizer): оптимизатор.\n",
        "    - num_epochs (int, optional): количество эпох обучения. По умолчанию 10.\n",
        "\n",
        "    Выходные данные:\n",
        "    - None. Функция обучает модель, отображает график потерь на обучающем и валидационном наборах данных.\n",
        "    \"\"\"\n",
        "    model.train()\n",
        "    train_losses = []\n",
        "    test_losses = []\n",
        "\n",
        "    for epoch in range(num_epochs):\n",
        "        model.train()\n",
        "        total_loss = 0\n",
        "        for img1, img2, labels in train_dataloader:\n",
        "            img1, img2, labels = img1.to(device), img2.to(device), labels.to(device).float()\n",
        "            optimizer.zero_grad()\n",
        "            outputs = model(img1, img2)\n",
        "            loss = criterion(outputs, labels.view(-1, 1))\n",
        "            loss.backward()\n",
        "            optimizer.step()\n",
        "            total_loss += loss.item()\n",
        "        train_losses.append(total_loss / len(train_dataloader))\n",
        "\n",
        "        model.eval()\n",
        "        total_test_loss = 0\n",
        "        with torch.no_grad():\n",
        "            for img1, img2, labels in test_dataloader:\n",
        "                img1, img2, labels = img1.to(device), img2.to(device), labels.to(device).float()\n",
        "                outputs = model(img1, img2)\n",
        "                loss = criterion(outputs, labels.view(-1, 1))\n",
        "                total_test_loss += loss.item()\n",
        "        test_losses.append(total_test_loss / len(test_dataloader))\n",
        "\n",
        "        print(f\"Epoch {epoch+1}, Training Loss: {train_losses[-1]}, Validation Loss: {test_losses[-1]}\")\n",
        "\n",
        "    plt.figure(figsize=(10, 5))\n",
        "    plt.plot(train_losses, label='Training Loss')\n",
        "    plt.plot(test_losses, label='Validation Loss')\n",
        "    plt.xlabel('Epoch')\n",
        "    plt.ylabel('MSE Loss')\n",
        "    plt.legend()\n",
        "    plt.show()\n",
        "\n",
        "optimizer = Adam(finetune_model.linear.parameters(), lr=1e-2)\n",
        "criterion = nn.MSELoss()\n",
        "\n",
        "train_and_validate(finetune_model, train_dataloader, test_dataloader, criterion, optimizer, num_epochs=2)"
      ]
    },
    {
      "cell_type": "code",
      "execution_count": 10,
      "metadata": {},
      "outputs": [
        {
          "data": {
            "text/plain": [
              "[]"
            ]
          },
          "execution_count": 10,
          "metadata": {},
          "output_type": "execute_result"
        }
      ],
      "source": [
        "os.listdir('data/benchmarked\\\\186121\\\\')"
      ]
    },
    {
      "cell_type": "code",
      "execution_count": null,
      "metadata": {
        "colab": {
          "base_uri": "https://localhost:8080/"
        },
        "id": "9aOwwgo-pH50",
        "outputId": "aa46e8c6-d7ea-4f15-e1da-b480157dd81d"
      },
      "outputs": [
        {
          "name": "stdout",
          "output_type": "stream",
          "text": [
            "Test Accuracy: 0.7734138972809668\n"
          ]
        }
      ],
      "source": [
        "def calculate_accuracy(model, dataloader, threshold=0.6):\n",
        "    \"\"\"\n",
        "    Вычисляет точность модели на данных из даталоадера.\n",
        "\n",
        "    Параметры:\n",
        "    - model (torch.nn.Module): модель для оценки.\n",
        "    - dataloader (DataLoader): загрузчик данных для оценки.\n",
        "    - threshold (float, optional): порог для классификации между классами. По умолчанию 0.6.\n",
        "\n",
        "    Выходные данные:\n",
        "    - accuracy (float): точность модели на предоставленном наборе данных.\n",
        "    \"\"\"\n",
        "    model.eval()\n",
        "    correct = 0\n",
        "    total = 0\n",
        "    with torch.no_grad():\n",
        "        for img1, img2, labels in dataloader:\n",
        "            img1, img2, labels = img1.to(device), img2.to(device), labels.to(device)\n",
        "            outputs = model(img1, img2)\n",
        "            predictions = outputs > threshold\n",
        "            correct += (predictions.flatten().int() == labels.int()).sum().item()\n",
        "            total += labels.size(0)\n",
        "    accuracy = correct / total\n",
        "    return accuracy\n",
        "\n",
        "\n",
        "# Вычисляем accuracy на тестовом наборе данных\n",
        "test_accuracy = calculate_accuracy(finetune_model, test_dataloader, threshold=0.7)\n",
        "print(f\"Test Accuracy: {test_accuracy}\")"
      ]
    },
    {
      "cell_type": "code",
      "execution_count": 21,
      "metadata": {
        "colab": {
          "base_uri": "https://localhost:8080/",
          "height": 472
        },
        "id": "dfVsB967RnuO",
        "outputId": "a254c365-818c-4da9-e43c-766c75fda27f"
      },
      "outputs": [
        {
          "ename": "ModuleNotFoundError",
          "evalue": "No module named 'sklearn'",
          "output_type": "error",
          "traceback": [
            "\u001b[1;31m---------------------------------------------------------------------------\u001b[0m",
            "\u001b[1;31mModuleNotFoundError\u001b[0m                       Traceback (most recent call last)",
            "Cell \u001b[1;32mIn[21], line 2\u001b[0m\n\u001b[0;32m      1\u001b[0m \u001b[38;5;28;01mimport\u001b[39;00m \u001b[38;5;21;01mmatplotlib\u001b[39;00m\u001b[38;5;21;01m.\u001b[39;00m\u001b[38;5;21;01mpyplot\u001b[39;00m \u001b[38;5;28;01mas\u001b[39;00m \u001b[38;5;21;01mplt\u001b[39;00m\n\u001b[1;32m----> 2\u001b[0m \u001b[38;5;28;01mfrom\u001b[39;00m \u001b[38;5;21;01msklearn\u001b[39;00m\u001b[38;5;21;01m.\u001b[39;00m\u001b[38;5;21;01mmetrics\u001b[39;00m \u001b[38;5;28;01mimport\u001b[39;00m roc_curve, auc\n\u001b[0;32m      3\u001b[0m \u001b[38;5;28;01mimport\u001b[39;00m \u001b[38;5;21;01mnumpy\u001b[39;00m \u001b[38;5;28;01mas\u001b[39;00m \u001b[38;5;21;01mnp\u001b[39;00m\n\u001b[0;32m      4\u001b[0m \u001b[38;5;28;01mimport\u001b[39;00m \u001b[38;5;21;01mtorch\u001b[39;00m\n",
            "\u001b[1;31mModuleNotFoundError\u001b[0m: No module named 'sklearn'"
          ]
        }
      ],
      "source": [
        "import matplotlib.pyplot as plt\n",
        "from sklearn.metrics import roc_curve, auc\n",
        "import numpy as np\n",
        "import torch\n",
        "from torch.utils.data import DataLoader\n",
        "\n",
        "def get_model_predictions_and_labels(model: torch.nn.Module, dataloader: DataLoader, device: torch.device) -> tuple:\n",
        "    \"\"\"\n",
        "    Функция для получения предсказаний модели и истинных меток из даталоадера.\n",
        "\n",
        "    Аргументы:\n",
        "    - model: torch.nn.Module - модель для оценки\n",
        "    - dataloader: DataLoader - загрузчик данных\n",
        "    - device: torch.device - устройство, на котором происходит вычисление\n",
        "\n",
        "    Возвращает кортеж:\n",
        "    - predictions: List[float] - предсказания модели\n",
        "    - labels_list: List[int] - истинные метки\n",
        "    \"\"\"\n",
        "    model.eval()\n",
        "    predictions = []\n",
        "    labels_list = []\n",
        "\n",
        "    with torch.no_grad():\n",
        "        for img1, img2, labels in dataloader:\n",
        "            img1, img2, labels = img1.to(device), img2.to(device), labels.to(device)\n",
        "            outputs = model(img1, img2)\n",
        "            predictions.extend(outputs.flatten().cpu().numpy())\n",
        "            labels_list.extend(labels.cpu().numpy())\n",
        "\n",
        "    return predictions, labels_list\n",
        "\n",
        "def plot_roc_curve(model: torch.nn.Module, dataloader: DataLoader, device: torch.device):\n",
        "    \"\"\"\n",
        "    Функция для построения ROC-кривой для модели на данных из даталоадера.\n",
        "\n",
        "    Аргументы:\n",
        "    - model: torch.nn.Module - модель для оценки\n",
        "    - dataloader: DataLoader - загрузчик данных\n",
        "    - device: torch.device - устройство, на котором происходит вычисление\n",
        "    \"\"\"\n",
        "    predictions, labels = get_model_predictions_and_labels(model, dataloader, device)\n",
        "    fpr, tpr, thresholds = roc_curve(labels, predictions)\n",
        "    roc_auc = auc(fpr, tpr)\n",
        "\n",
        "    plt.figure()\n",
        "    plt.plot(fpr, tpr, color='darkorange', lw=2, label=f'ROC curve (area = {roc_auc:.2f})')\n",
        "    plt.plot([0, 1], [0, 1], color='navy', lw=2, linestyle='--')\n",
        "    plt.xlim([0.0, 1.0])\n",
        "    plt.ylim([0.0, 1.05])\n",
        "    plt.xlabel('False Positive Rate')\n",
        "    plt.ylabel('True Positive Rate')\n",
        "    plt.title('Кривая ROC (Receiver Operating Characteristic)')\n",
        "    plt.legend(loc=\"lower right\")\n",
        "    plt.show()\n",
        "plot_roc_curve(finetune_model, test_dataloader, device)"
      ]
    },
    {
      "cell_type": "code",
      "execution_count": 21,
      "metadata": {
        "id": "hUuTkztrVHez"
      },
      "outputs": [],
      "source": [
        "# Путь для сохранения модели\n",
        "model_path = 'drive/MyDrive/Data_Science/other/capcha/finetuned_clip_model_delme.pth'\n",
        "optimizer_path = 'drive/MyDrive/Data_Science/other/capcha/optimizer_state_delme.pth'\n",
        "\n",
        "# Сохранение модели\n",
        "torch.save(finetune_model.state_dict(), model_path)\n",
        "\n",
        "# Сохранение состояния оптимизатора (по желанию)\n",
        "torch.save(optimizer.state_dict(), optimizer_path)"
      ]
    },
    {
      "cell_type": "code",
      "execution_count": null,
      "metadata": {
        "id": "xqqLhed7VrfY"
      },
      "outputs": [],
      "source": []
    },
    {
      "cell_type": "markdown",
      "metadata": {
        "id": "8i3-FKiM6I8o"
      },
      "source": [
        "# New dataset creation"
      ]
    },
    {
      "cell_type": "code",
      "execution_count": null,
      "metadata": {
        "colab": {
          "base_uri": "https://localhost:8080/"
        },
        "id": "ocadQOpH6Uuq",
        "outputId": "ee25ac6d-0ef9-43fa-a63e-a9e63e1c2259"
      },
      "outputs": [
        {
          "name": "stdout",
          "output_type": "stream",
          "text": [
            "Архив успешно разархивирован в указанную папку!\n"
          ]
        }
      ],
      "source": [
        "import zipfile\n",
        "import os\n",
        "\n",
        "zip_filename = 'drive/MyDrive/Data_Science/other/capcha/benchmarked.zip'\n",
        "extract_folder = 'train_data2'\n",
        "\n",
        "with zipfile.ZipFile(zip_filename, 'r') as zip_ref:\n",
        "    zip_ref.extractall(extract_folder)\n",
        "\n",
        "print('Архив успешно разархивирован в указанную папку!')"
      ]
    },
    {
      "cell_type": "code",
      "execution_count": null,
      "metadata": {
        "id": "cfx2i-r9_HCO"
      },
      "outputs": [],
      "source": [
        "import os\n",
        "import csv\n",
        "\n",
        "# Путь к директории с папками\n",
        "directory = 'train_data2/benchmarked'\n",
        "# Список всех папок в директории\n",
        "folders = [f for f in os.listdir(directory) if os.path.isdir(os.path.join(directory, f))]\n",
        "\n",
        "# Создаем CSV-файл для записи результатов\n",
        "with open('train_data2/benchmarked/results.csv', mode='w', newline='') as file:\n",
        "    writer = csv.writer(file)\n",
        "    writer.writerow(['Image 1', 'Image 2', 'Boolean'])\n",
        "\n",
        "    # Проходим по каждой папке\n",
        "    for i, folder in enumerate(folders):\n",
        "        # Получаем путь к текущей папке\n",
        "        folder_path = os.path.join(directory, folder)\n",
        "\n",
        "        # Смотрим, есть ли следующая папка\n",
        "        next_folder = folders[i + 1] if i < len(folders) - 1 else None\n",
        "\n",
        "        # Создаем строки для таблицы, если это возможно\n",
        "        first_row = [os.path.join(folder_path, 'im.jpg'), os.path.join(folder_path, 'correct.jpg'), True]\n",
        "        writer.writerow(first_row)\n",
        "\n",
        "        if next_folder:\n",
        "            next_folder_path = os.path.join(directory, next_folder)\n",
        "            second_row = [os.path.join(folder_path, 'im.jpg'), os.path.join(next_folder_path, 'correct.jpg'), False]\n",
        "            writer.writerow(second_row)"
      ]
    },
    {
      "cell_type": "code",
      "execution_count": null,
      "metadata": {
        "id": "GEJSzsYw-lM8"
      },
      "outputs": [],
      "source": []
    },
    {
      "cell_type": "markdown",
      "metadata": {
        "id": "19ymUgW6Td0K"
      },
      "source": [
        "# Inference"
      ]
    },
    {
      "cell_type": "code",
      "execution_count": null,
      "metadata": {
        "colab": {
          "base_uri": "https://localhost:8080/"
        },
        "id": "tdEg7PHvThjd",
        "outputId": "f9ec1df3-a939-4cd6-f404-2a45d1f8589b"
      },
      "outputs": [
        {
          "name": "stdout",
          "output_type": "stream",
          "text": [
            "Similarity: 0.6541217565536499\n"
          ]
        }
      ],
      "source": [
        "import clip\n",
        "import torch\n",
        "from torch import nn\n",
        "from PIL import Image\n",
        "\n",
        "# Загрузка предварительно обученной модели CLIP\n",
        "device = \"cuda\" if torch.cuda.is_available() else \"cpu\"\n",
        "model, preprocess = clip.load(\"ViT-B/32\", device=device)\n",
        "\n",
        "# Инициализация модели надстройки\n",
        "finetune_model = CLIPFineTuneModel(model).to(device)\n",
        "\n",
        "# Путь к сохраненной модели\n",
        "model_path = 'finetuned_clip_model.pth'\n",
        "\n",
        "# Загрузка весов в модель\n",
        "finetune_model.load_state_dict(torch.load(model_path))\n",
        "finetune_model.eval()  # Переключение модели в режим оценки\n",
        "\n",
        "# Загрузка изображений\n",
        "img1_path = '183103_icon_1.jpg'\n",
        "img2_path = '183103_icon_2.jpg'\n",
        "img1 = Image.open(img1_path).convert(\"RGB\")\n",
        "img2 = Image.open(img2_path).convert(\"RGB\")\n",
        "\n",
        "# Преобразование изображений\n",
        "img1_processed = preprocess(img1).unsqueeze(0).to(device)\n",
        "img2_processed = preprocess(img2).unsqueeze(0).to(device)\n",
        "\n",
        "# Применение модели\n",
        "with torch.no_grad():\n",
        "    similarity = finetune_model(img1_processed, img2_processed)\n",
        "    print(f\"Similarity: {similarity.item()}\")"
      ]
    },
    {
      "cell_type": "code",
      "execution_count": null,
      "metadata": {
        "colab": {
          "base_uri": "https://localhost:8080/"
        },
        "id": "89Yhk2p2ViYm",
        "outputId": "ce442d26-9c7b-4624-91b6-259a7ca3a95e"
      },
      "outputs": [
        {
          "data": {
            "text/plain": [
              "4"
            ]
          },
          "execution_count": 100,
          "metadata": {},
          "output_type": "execute_result"
        }
      ],
      "source": [
        "2+2"
      ]
    },
    {
      "cell_type": "markdown",
      "metadata": {
        "id": "9l-G62j6Lmgl"
      },
      "source": [
        "# Inference test"
      ]
    },
    {
      "cell_type": "code",
      "execution_count": 1,
      "metadata": {
        "colab": {
          "base_uri": "https://localhost:8080/"
        },
        "id": "qF2z1__mLiTf",
        "outputId": "dfab50dd-e7f4-43eb-f1ba-4f4cc01c83ba"
      },
      "outputs": [
        {
          "name": "stdout",
          "output_type": "stream",
          "text": [
            "Collecting ftfy\n",
            "  Downloading ftfy-6.1.3-py3-none-any.whl (53 kB)\n",
            "\u001b[?25l     \u001b[90m━━━━━━━━━━━━━━━━━━━━━━━━━━━━━━━━━━━━━━━━\u001b[0m \u001b[32m0.0/53.4 kB\u001b[0m \u001b[31m?\u001b[0m eta \u001b[36m-:--:--\u001b[0m\r\u001b[2K     \u001b[90m━━━━━━━━━━━━━━━━━━━━━━━━━━━━━━━━━━━━━━━━\u001b[0m \u001b[32m53.4/53.4 kB\u001b[0m \u001b[31m1.6 MB/s\u001b[0m eta \u001b[36m0:00:00\u001b[0m\n",
            "\u001b[?25hRequirement already satisfied: regex in /usr/local/lib/python3.10/dist-packages (2023.12.25)\n",
            "Requirement already satisfied: tqdm in /usr/local/lib/python3.10/dist-packages (4.66.2)\n",
            "Requirement already satisfied: wcwidth<0.3.0,>=0.2.12 in /usr/local/lib/python3.10/dist-packages (from ftfy) (0.2.13)\n",
            "Installing collected packages: ftfy\n",
            "Successfully installed ftfy-6.1.3\n",
            "Collecting git+https://github.com/openai/CLIP.git\n",
            "  Cloning https://github.com/openai/CLIP.git to /tmp/pip-req-build-37ls9nht\n",
            "  Running command git clone --filter=blob:none --quiet https://github.com/openai/CLIP.git /tmp/pip-req-build-37ls9nht\n",
            "  Resolved https://github.com/openai/CLIP.git to commit a1d071733d7111c9c014f024669f959182114e33\n",
            "  Preparing metadata (setup.py) ... \u001b[?25l\u001b[?25hdone\n",
            "Requirement already satisfied: ftfy in /usr/local/lib/python3.10/dist-packages (from clip==1.0) (6.1.3)\n",
            "Requirement already satisfied: regex in /usr/local/lib/python3.10/dist-packages (from clip==1.0) (2023.12.25)\n",
            "Requirement already satisfied: tqdm in /usr/local/lib/python3.10/dist-packages (from clip==1.0) (4.66.2)\n",
            "Requirement already satisfied: torch in /usr/local/lib/python3.10/dist-packages (from clip==1.0) (2.1.0+cu121)\n",
            "Requirement already satisfied: torchvision in /usr/local/lib/python3.10/dist-packages (from clip==1.0) (0.16.0+cu121)\n",
            "Requirement already satisfied: wcwidth<0.3.0,>=0.2.12 in /usr/local/lib/python3.10/dist-packages (from ftfy->clip==1.0) (0.2.13)\n",
            "Requirement already satisfied: filelock in /usr/local/lib/python3.10/dist-packages (from torch->clip==1.0) (3.13.1)\n",
            "Requirement already satisfied: typing-extensions in /usr/local/lib/python3.10/dist-packages (from torch->clip==1.0) (4.9.0)\n",
            "Requirement already satisfied: sympy in /usr/local/lib/python3.10/dist-packages (from torch->clip==1.0) (1.12)\n",
            "Requirement already satisfied: networkx in /usr/local/lib/python3.10/dist-packages (from torch->clip==1.0) (3.2.1)\n",
            "Requirement already satisfied: jinja2 in /usr/local/lib/python3.10/dist-packages (from torch->clip==1.0) (3.1.3)\n",
            "Requirement already satisfied: fsspec in /usr/local/lib/python3.10/dist-packages (from torch->clip==1.0) (2023.6.0)\n",
            "Requirement already satisfied: triton==2.1.0 in /usr/local/lib/python3.10/dist-packages (from torch->clip==1.0) (2.1.0)\n",
            "Requirement already satisfied: numpy in /usr/local/lib/python3.10/dist-packages (from torchvision->clip==1.0) (1.25.2)\n",
            "Requirement already satisfied: requests in /usr/local/lib/python3.10/dist-packages (from torchvision->clip==1.0) (2.31.0)\n",
            "Requirement already satisfied: pillow!=8.3.*,>=5.3.0 in /usr/local/lib/python3.10/dist-packages (from torchvision->clip==1.0) (9.4.0)\n",
            "Requirement already satisfied: MarkupSafe>=2.0 in /usr/local/lib/python3.10/dist-packages (from jinja2->torch->clip==1.0) (2.1.5)\n",
            "Requirement already satisfied: charset-normalizer<4,>=2 in /usr/local/lib/python3.10/dist-packages (from requests->torchvision->clip==1.0) (3.3.2)\n",
            "Requirement already satisfied: idna<4,>=2.5 in /usr/local/lib/python3.10/dist-packages (from requests->torchvision->clip==1.0) (3.6)\n",
            "Requirement already satisfied: urllib3<3,>=1.21.1 in /usr/local/lib/python3.10/dist-packages (from requests->torchvision->clip==1.0) (2.0.7)\n",
            "Requirement already satisfied: certifi>=2017.4.17 in /usr/local/lib/python3.10/dist-packages (from requests->torchvision->clip==1.0) (2024.2.2)\n",
            "Requirement already satisfied: mpmath>=0.19 in /usr/local/lib/python3.10/dist-packages (from sympy->torch->clip==1.0) (1.3.0)\n",
            "Building wheels for collected packages: clip\n",
            "  Building wheel for clip (setup.py) ... \u001b[?25l\u001b[?25hdone\n",
            "  Created wheel for clip: filename=clip-1.0-py3-none-any.whl size=1369497 sha256=78f87b7185107db6d411c0958958714b53aff747aa23ae353ff16d5e8e91d0f6\n",
            "  Stored in directory: /tmp/pip-ephem-wheel-cache-399p3kxw/wheels/da/2b/4c/d6691fa9597aac8bb85d2ac13b112deb897d5b50f5ad9a37e4\n",
            "Successfully built clip\n",
            "Installing collected packages: clip\n",
            "Successfully installed clip-1.0\n"
          ]
        }
      ],
      "source": [
        "! pip install ftfy regex tqdm\n",
        "! pip install git+https://github.com/openai/CLIP.git"
      ]
    },
    {
      "cell_type": "code",
      "execution_count": 2,
      "metadata": {
        "colab": {
          "base_uri": "https://localhost:8080/"
        },
        "id": "FsMNCWNYLr1y",
        "outputId": "4760ac38-ff85-40ee-eb1f-bc3e083aa649"
      },
      "outputs": [
        {
          "name": "stdout",
          "output_type": "stream",
          "text": [
            "/usr/local/lib/python3.10/dist-packages/gdown/cli.py:138: FutureWarning: Option `--id` was deprecated in version 4.3.1 and will be removed in 5.0. You don't need to pass it anymore to use a file ID.\n",
            "  warnings.warn(\n",
            "Downloading...\n",
            "From (original): https://drive.google.com/uc?id=17UeoS3l5IEr7uCmLsjxjqxWpMnUEoWwQ\n",
            "From (redirected): https://drive.google.com/uc?id=17UeoS3l5IEr7uCmLsjxjqxWpMnUEoWwQ&confirm=t&uuid=e1888beb-db79-42c9-bd36-82bdf74adfb9\n",
            "To: /content/finetuned_clip_model_roc093.pth\n",
            "100% 354M/354M [00:05<00:00, 62.8MB/s]\n"
          ]
        }
      ],
      "source": [
        "!gdown --id 17UeoS3l5IEr7uCmLsjxjqxWpMnUEoWwQ"
      ]
    },
    {
      "cell_type": "code",
      "execution_count": 4,
      "metadata": {
        "colab": {
          "base_uri": "https://localhost:8080/",
          "height": 339
        },
        "id": "P01krPDBMfAK",
        "outputId": "1e51dc09-59ff-47d7-abc8-0437576503db"
      },
      "outputs": [
        {
          "ename": "TypeError",
          "evalue": "CLIPFineTuneModel.__init__() takes 1 positional argument but 2 were given",
          "output_type": "error",
          "traceback": [
            "\u001b[0;31m---------------------------------------------------------------------------\u001b[0m",
            "\u001b[0;31mTypeError\u001b[0m                                 Traceback (most recent call last)",
            "\u001b[0;32m<ipython-input-4-8f66eeefaa43>\u001b[0m in \u001b[0;36m<cell line: 4>\u001b[0;34m()\u001b[0m\n\u001b[1;32m      2\u001b[0m \u001b[0mmodel\u001b[0m\u001b[0;34m,\u001b[0m \u001b[0mpreprocess\u001b[0m \u001b[0;34m=\u001b[0m \u001b[0mclip\u001b[0m\u001b[0;34m.\u001b[0m\u001b[0mload\u001b[0m\u001b[0;34m(\u001b[0m\u001b[0;34m\"ViT-B/32\"\u001b[0m\u001b[0;34m,\u001b[0m \u001b[0mdevice\u001b[0m\u001b[0;34m=\u001b[0m\u001b[0mdevice\u001b[0m\u001b[0;34m)\u001b[0m\u001b[0;34m\u001b[0m\u001b[0;34m\u001b[0m\u001b[0m\n\u001b[1;32m      3\u001b[0m \u001b[0;31m# Инициализация модели надстройки\u001b[0m\u001b[0;34m\u001b[0m\u001b[0;34m\u001b[0m\u001b[0m\n\u001b[0;32m----> 4\u001b[0;31m \u001b[0mfinetune_model\u001b[0m \u001b[0;34m=\u001b[0m \u001b[0mCLIPFineTuneModel\u001b[0m\u001b[0;34m(\u001b[0m\u001b[0mmodel\u001b[0m\u001b[0;34m)\u001b[0m\u001b[0;34m.\u001b[0m\u001b[0mto\u001b[0m\u001b[0;34m(\u001b[0m\u001b[0mdevice\u001b[0m\u001b[0;34m)\u001b[0m\u001b[0;34m\u001b[0m\u001b[0;34m\u001b[0m\u001b[0m\n\u001b[0m\u001b[1;32m      5\u001b[0m \u001b[0;34m\u001b[0m\u001b[0m\n\u001b[1;32m      6\u001b[0m \u001b[0;31m# Путь к сохраненной модели\u001b[0m\u001b[0;34m\u001b[0m\u001b[0;34m\u001b[0m\u001b[0m\n",
            "\u001b[0;32m/usr/local/lib/python3.10/dist-packages/torch/nn/modules/module.py\u001b[0m in \u001b[0;36m__init__\u001b[0;34m(self, *args, **kwargs)\u001b[0m\n\u001b[1;32m    462\u001b[0m \u001b[0;34m\u001b[0m\u001b[0m\n\u001b[1;32m    463\u001b[0m         \u001b[0;32mif\u001b[0m \u001b[0mself\u001b[0m\u001b[0;34m.\u001b[0m\u001b[0mcall_super_init\u001b[0m \u001b[0;32mis\u001b[0m \u001b[0;32mFalse\u001b[0m \u001b[0;32mand\u001b[0m \u001b[0mbool\u001b[0m\u001b[0;34m(\u001b[0m\u001b[0margs\u001b[0m\u001b[0;34m)\u001b[0m\u001b[0;34m:\u001b[0m\u001b[0;34m\u001b[0m\u001b[0;34m\u001b[0m\u001b[0m\n\u001b[0;32m--> 464\u001b[0;31m             raise TypeError(f\"{type(self).__name__}.__init__() takes 1 positional argument but {len(args) + 1} were\"\n\u001b[0m\u001b[1;32m    465\u001b[0m                             \" given\")\n\u001b[1;32m    466\u001b[0m \u001b[0;34m\u001b[0m\u001b[0m\n",
            "\u001b[0;31mTypeError\u001b[0m: CLIPFineTuneModel.__init__() takes 1 positional argument but 2 were given"
          ]
        }
      ],
      "source": [
        "device = \"cuda\" if torch.cuda.is_available() else \"cpu\"\n",
        "model, preprocess = clip.load(\"ViT-B/32\", device=device)\n",
        "# Инициализация модели надстройки\n",
        "finetune_model = CLIPFineTuneModel(model).to(device)\n",
        "\n",
        "# Путь к сохраненной модели\n",
        "model_path = 'finetuned_clip_model_roc093.pth'\n",
        "\n",
        "# Загрузка весов в модель\n",
        "#finetune_model.load_state_dict(torch.load(model_path))\n",
        "finetune_model.load_state_dict(torch.load(model_path, map_location=torch.device('cpu')))\n",
        "finetune_model.eval()  # Переключение модели в режим оценки"
      ]
    },
    {
      "cell_type": "code",
      "execution_count": 3,
      "metadata": {
        "colab": {
          "base_uri": "https://localhost:8080/",
          "height": 357
        },
        "id": "uV021u14Vo5d",
        "outputId": "4ce1fda0-db99-4f61-eeb9-16fea37741dc"
      },
      "outputs": [
        {
          "name": "stderr",
          "output_type": "stream",
          "text": [
            "100%|███████████████████████████████████████| 338M/338M [00:06<00:00, 55.8MiB/s]\n"
          ]
        },
        {
          "ename": "TypeError",
          "evalue": "CLIPFineTuneModel.__init__() takes 1 positional argument but 2 were given",
          "output_type": "error",
          "traceback": [
            "\u001b[0;31m---------------------------------------------------------------------------\u001b[0m",
            "\u001b[0;31mTypeError\u001b[0m                                 Traceback (most recent call last)",
            "\u001b[0;32m<ipython-input-3-266c5e38c3de>\u001b[0m in \u001b[0;36m<cell line: 33>\u001b[0;34m()\u001b[0m\n\u001b[1;32m     31\u001b[0m \u001b[0;34m\u001b[0m\u001b[0m\n\u001b[1;32m     32\u001b[0m \u001b[0;31m# Инициализация и загрузка весов модели надстройки\u001b[0m\u001b[0;34m\u001b[0m\u001b[0;34m\u001b[0m\u001b[0m\n\u001b[0;32m---> 33\u001b[0;31m \u001b[0mfinetune_model\u001b[0m \u001b[0;34m=\u001b[0m \u001b[0mCLIPFineTuneModel\u001b[0m\u001b[0;34m(\u001b[0m\u001b[0mclip_model\u001b[0m\u001b[0;34m)\u001b[0m\u001b[0;34m.\u001b[0m\u001b[0mto\u001b[0m\u001b[0;34m(\u001b[0m\u001b[0mdevice\u001b[0m\u001b[0;34m)\u001b[0m\u001b[0;34m\u001b[0m\u001b[0;34m\u001b[0m\u001b[0m\n\u001b[0m\u001b[1;32m     34\u001b[0m \u001b[0mmodel_path\u001b[0m \u001b[0;34m=\u001b[0m \u001b[0;34m'finetuned_clip_model_roc093.pth'\u001b[0m\u001b[0;34m\u001b[0m\u001b[0;34m\u001b[0m\u001b[0m\n\u001b[1;32m     35\u001b[0m \u001b[0mfinetune_model\u001b[0m\u001b[0;34m.\u001b[0m\u001b[0mload_state_dict\u001b[0m\u001b[0;34m(\u001b[0m\u001b[0mtorch\u001b[0m\u001b[0;34m.\u001b[0m\u001b[0mload\u001b[0m\u001b[0;34m(\u001b[0m\u001b[0mmodel_path\u001b[0m\u001b[0;34m,\u001b[0m \u001b[0mmap_location\u001b[0m\u001b[0;34m=\u001b[0m\u001b[0mdevice\u001b[0m\u001b[0;34m)\u001b[0m\u001b[0;34m)\u001b[0m\u001b[0;34m\u001b[0m\u001b[0;34m\u001b[0m\u001b[0m\n",
            "\u001b[0;32m/usr/local/lib/python3.10/dist-packages/torch/nn/modules/module.py\u001b[0m in \u001b[0;36m__init__\u001b[0;34m(self, *args, **kwargs)\u001b[0m\n\u001b[1;32m    462\u001b[0m \u001b[0;34m\u001b[0m\u001b[0m\n\u001b[1;32m    463\u001b[0m         \u001b[0;32mif\u001b[0m \u001b[0mself\u001b[0m\u001b[0;34m.\u001b[0m\u001b[0mcall_super_init\u001b[0m \u001b[0;32mis\u001b[0m \u001b[0;32mFalse\u001b[0m \u001b[0;32mand\u001b[0m \u001b[0mbool\u001b[0m\u001b[0;34m(\u001b[0m\u001b[0margs\u001b[0m\u001b[0;34m)\u001b[0m\u001b[0;34m:\u001b[0m\u001b[0;34m\u001b[0m\u001b[0;34m\u001b[0m\u001b[0m\n\u001b[0;32m--> 464\u001b[0;31m             raise TypeError(f\"{type(self).__name__}.__init__() takes 1 positional argument but {len(args) + 1} were\"\n\u001b[0m\u001b[1;32m    465\u001b[0m                             \" given\")\n\u001b[1;32m    466\u001b[0m \u001b[0;34m\u001b[0m\u001b[0m\n",
            "\u001b[0;31mTypeError\u001b[0m: CLIPFineTuneModel.__init__() takes 1 positional argument but 2 were given"
          ]
        }
      ],
      "source": [
        "import os\n",
        "import torch\n",
        "from PIL import Image\n",
        "import clip\n",
        "from torch import nn\n",
        "\n",
        "# Загрузка модели CLIP и предобработка изображений\n",
        "device = \"cuda\" if torch.cuda.is_available() else \"cpu\"\n",
        "clip_model, preprocess = clip.load(\"ViT-B/32\", device=device)\n",
        "\n",
        "\n",
        "class CLIPFineTuneModel(nn.Module):\n",
        "    def init(self, clip_model):\n",
        "        super(CLIPFineTuneModel, self).init()\n",
        "        self.clip_model = clip_model\n",
        "        self.linear = nn.Linear(512, 64)  # Предполагается, что размерность вектора признаков CLIP - 512\n",
        "        self.cosine_similarity = nn.CosineSimilarity(dim=1)\n",
        "\n",
        "    def forward(self, img1, img2):\n",
        "        with torch.no_grad():\n",
        "            features1 = self.clip_model.encode_image(img1).to(dtype=torch.float32)\n",
        "            features2 = self.clip_model.encode_image(img2).to(dtype=torch.float32)\n",
        "\n",
        "        transformed_features1 = self.linear(features1).to(dtype=torch.float32)\n",
        "        transformed_features2 = self.linear(features2).to(dtype=torch.float32)\n",
        "        transformed_features1 = transformed_features1 / transformed_features1.norm(dim=-1, keepdim=True)\n",
        "        transformed_features2 = transformed_features2 / transformed_features2.norm(dim=-1, keepdim=True)\n",
        "\n",
        "        similarity = self.cosine_similarity(transformed_features1, transformed_features2).unsqueeze(-1).to(dtype=torch.float32)\n",
        "\n",
        "        return similarity\n",
        "\n",
        "\n",
        "# Инициализация и загрузка весов модели надстройки\n",
        "finetune_model = CLIPFineTuneModel(clip_model).to(device)\n",
        "model_path = 'finetuned_clip_model_roc093.pth'\n",
        "finetune_model.load_state_dict(torch.load(model_path, map_location=device))\n",
        "finetune_model.eval()\n",
        "\n",
        "def get_image_features(image_path, model, preprocess):\n",
        "    image = Image.open(image_path).convert(\"RGB\")\n",
        "    image_processed = preprocess(image).unsqueeze(0).to(device)\n",
        "    with torch.no_grad():\n",
        "        features = model.encode_image(image_processed).to(dtype=torch.float32)\n",
        "    return features, image\n",
        "\n",
        "def compare_images(base_image_folder, compare_image_folder, digit, finetune_model, preprocess, visualize=False):\n",
        "    base_image_path = os.path.join(base_image_folder, \"im.jpg\")\n",
        "    base_features, base_image = get_image_features(base_image_path, clip_model, preprocess)\n",
        "\n",
        "    max_similarity = -1\n",
        "    max_similarity_index = -1\n",
        "\n",
        "    for i in range(1, 6):\n",
        "        compare_image_path = os.path.join(compare_image_folder, f\"x_{i}\", f\"{digit}.jpg\")\n",
        "        try:\n",
        "            compare_features, compare_image = get_image_features(compare_image_path, clip_model, preprocess)\n",
        "            # Использование модели надстройки для сравнения\n",
        "            similarity = finetune_model(base_features, compare_features).cpu().numpy()\n",
        "            if similarity > max_similarity:\n",
        "                max_similarity = similarity\n",
        "                max_similarity_index = i\n",
        "            if visualize:\n",
        "                # Функция display_comparison не определена в данном примере\n",
        "                display_comparison(base_image, compare_image, similarity, i)\n",
        "        except FileNotFoundError:\n",
        "            print(f\"Файл {compare_image_path} не найден.\")\n",
        "\n",
        "    return max_similarity_index\n"
      ]
    },
    {
      "cell_type": "code",
      "execution_count": null,
      "metadata": {
        "id": "it8-ALODL5Fo"
      },
      "outputs": [],
      "source": [
        "\n",
        "# Пример вызова функции compare_images\n",
        "base_image_folder = '/path/to/base/image/folder'\n",
        "compare_image_folder = '/path/to/compare/image/folder'\n",
        "digit = '1'  # Пример цифры\n",
        "max_similarity_index = compare_images(base_image_folder, compare_image_folder, digit, finetune_model, preprocess, visualize=True)\n",
        "print(f\"Наибольшая схожесть в папке: x_{max_similarity_index}\")"
      ]
    }
  ],
  "metadata": {
    "accelerator": "GPU",
    "colab": {
      "gpuType": "T4",
      "provenance": []
    },
    "kernelspec": {
      "display_name": "Python 3",
      "name": "python3"
    },
    "language_info": {
      "codemirror_mode": {
        "name": "ipython",
        "version": 3
      },
      "file_extension": ".py",
      "mimetype": "text/x-python",
      "name": "python",
      "nbconvert_exporter": "python",
      "pygments_lexer": "ipython3",
      "version": "3.11.0"
    }
  },
  "nbformat": 4,
  "nbformat_minor": 0
}
